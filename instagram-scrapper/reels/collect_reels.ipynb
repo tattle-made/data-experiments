{
 "cells": [
  {
   "cell_type": "code",
   "execution_count": 6,
   "id": "f71b8f33-bd3b-41b4-8215-500592ba778c",
   "metadata": {},
   "outputs": [
    {
     "data": {
      "text/plain": [
       "True"
      ]
     },
     "execution_count": 6,
     "metadata": {},
     "output_type": "execute_result"
    }
   ],
   "source": [
    "from selenium import webdriver\n",
    "from selenium.webdriver.firefox.service import Service\n",
    "from selenium.webdriver.firefox.options import Options\n",
    "from selenium.webdriver.common.by import By\n",
    "from selenium.webdriver.support.ui import WebDriverWait\n",
    "from selenium.webdriver.support import expected_conditions as EC\n",
    "from selenium.webdriver.common.keys import Keys\n",
    "from selenium.webdriver.common.action_chains import ActionChains\n",
    "from time import sleep\n",
    "import time\n",
    "import sys\n",
    "import os\n",
    "import csv\n",
    "from tqdm import tqdm\n",
    "from dotenv import load_dotenv\n",
    "load_dotenv()"
   ]
  },
  {
   "cell_type": "code",
   "execution_count": 3,
   "id": "95c51244-fd8a-4203-9761-c72a8eec519e",
   "metadata": {},
   "outputs": [],
   "source": [
    "options = Options()\n",
    "options.add_argument('--disable-blink-features=AutomationControlled')\n",
    "service = Service(\n",
    "    r\"/path/to/geckodriver\"\n",
    ")\n",
    "driver = webdriver.Firefox(service=service, options=options)"
   ]
  },
  {
   "cell_type": "code",
   "execution_count": 26,
   "id": "5e7cb559-0ffd-4929-8b70-e3d208d348ba",
   "metadata": {},
   "outputs": [],
   "source": [
    "actions = ActionChains(driver)"
   ]
  },
  {
   "cell_type": "code",
   "execution_count": 27,
   "id": "5997efba-0805-4f2a-b05c-660b14641622",
   "metadata": {},
   "outputs": [],
   "source": [
    "driver.get(\"https://www.instagram.com/\")\n",
    "sleep(3)"
   ]
  },
  {
   "cell_type": "code",
   "execution_count": 28,
   "id": "0063328a-f2d9-4410-b4cc-987ab21b8d23",
   "metadata": {},
   "outputs": [],
   "source": [
    "# enter username\n",
    "username = driver.find_element(By.NAME, \"username\")\n",
    "username.send_keys(os.getenv(\"INSTA_PASSWORD\"))\n",
    "sleep(2)\n",
    "\n",
    "# enter password\n",
    "password = driver.find_element(By.NAME, \"password\")\n",
    "password.send_keys(os.getenv(\"INSTA_PASSWORD\"))\n",
    "sleep(1)\n",
    "password.submit()\n",
    "sleep(5)"
   ]
  },
  {
   "cell_type": "code",
   "execution_count": 36,
   "id": "bdcd8662-2a09-40d6-8b98-ffdc25ebbca2",
   "metadata": {},
   "outputs": [],
   "source": [
    "reels_url = \"https://www.instagram.com/reels/\"\n",
    "driver.get(reels_url)\n",
    "sleep(3)"
   ]
  },
  {
   "cell_type": "code",
   "execution_count": 37,
   "id": "6068bc42-402e-462e-b13e-e60dfb44266e",
   "metadata": {},
   "outputs": [],
   "source": [
    "# CSV file setup\n",
    "csv_filename = \"instagram_reels_links.csv\"\n",
    "csv_header = [\"insta_links\"]\n",
    "if not os.path.exists(csv_filename):\n",
    "    with open(csv_filename, \"w\", newline=\"\", encoding=\"utf-8\") as f:\n",
    "        writer = csv.writer(f)\n",
    "        writer.writerow(csv_header)"
   ]
  },
  {
   "cell_type": "code",
   "execution_count": 38,
   "id": "87f6d7bb-71a8-4f3f-8d10-2eb19b875709",
   "metadata": {},
   "outputs": [
    {
     "name": "stdout",
     "output_type": "stream",
     "text": [
      "Focused on the first reel.\n"
     ]
    }
   ],
   "source": [
    "def focus_on_reel():\n",
    "    sleep(2)\n",
    "    try:\n",
    "        window_size = driver.get_window_size()\n",
    "        center_x = window_size['width'] // 2\n",
    "        center_y = window_size['height'] // 2\n",
    "\n",
    "        actions.move_by_offset(center_x, center_y).click().perform()\n",
    "        sleep(1)\n",
    "        print(\"Focused on the first reel.\")\n",
    "    except Exception as e:\n",
    "        print(\"Could not focus on reel:\", e)\n",
    "\n",
    "focus_on_reel()"
   ]
  },
  {
   "cell_type": "code",
   "execution_count": 39,
   "id": "dc2935e1-6416-4f40-ae6b-4a93dbf21e36",
   "metadata": {},
   "outputs": [],
   "source": [
    "def scrape_reels_links(scrolls=50, delay=0.5):\n",
    "    collected_links = set()\n",
    "    for _ in tqdm(range(scrolls), desc=\"Scrolling through Reels\"):\n",
    "        current_url = driver.current_url\n",
    "        if \"instagram.com/reels/\" in current_url and current_url not in collected_links:\n",
    "            collected_links.add(current_url)\n",
    "            with open(csv_filename, \"a\", newline=\"\", encoding=\"utf-8\") as f:\n",
    "                writer = csv.writer(f)\n",
    "                writer.writerow([current_url])\n",
    "    \n",
    "        # Scroll to the next reel\n",
    "        actions.send_keys(Keys.ARROW_DOWN).perform()\n",
    "        sleep(delay)\n",
    "\n",
    "    print(f\"Scraped {len(collected_links)} unique reels links.\")"
   ]
  },
  {
   "cell_type": "code",
   "execution_count": 40,
   "id": "168f1120-5283-47d5-9657-ba2984f30d1a",
   "metadata": {},
   "outputs": [
    {
     "name": "stderr",
     "output_type": "stream",
     "text": [
      "Scrolling through Reels: 100%|██████████████| 1500/1500 [17:35<00:00,  1.42it/s]"
     ]
    },
    {
     "name": "stdout",
     "output_type": "stream",
     "text": [
      "Scraped 943 unique reels links.\n",
      "CPU times: user 4.74 s, sys: 553 ms, total: 5.29 s\n",
      "Wall time: 17min 35s\n"
     ]
    },
    {
     "name": "stderr",
     "output_type": "stream",
     "text": [
      "\n"
     ]
    }
   ],
   "source": [
    "%%time\n",
    "scrape_reels_links(1500, 0.5)"
   ]
  },
  {
   "cell_type": "code",
   "execution_count": 5,
   "id": "c10aa255-1654-45f0-92ef-1f1df5cd2a85",
   "metadata": {},
   "outputs": [],
   "source": [
    "# # Close browser\n",
    "# driver.quit()"
   ]
  },
  {
   "cell_type": "code",
   "execution_count": null,
   "id": "81a97ea0-0dde-4472-970d-df47520cac29",
   "metadata": {},
   "outputs": [],
   "source": []
  }
 ],
 "metadata": {
  "kernelspec": {
   "display_name": "Python 3 (ipykernel)",
   "language": "python",
   "name": "python3"
  },
  "language_info": {
   "codemirror_mode": {
    "name": "ipython",
    "version": 3
   },
   "file_extension": ".py",
   "mimetype": "text/x-python",
   "name": "python",
   "nbconvert_exporter": "python",
   "pygments_lexer": "ipython3",
   "version": "3.12.6"
  }
 },
 "nbformat": 4,
 "nbformat_minor": 5
}
