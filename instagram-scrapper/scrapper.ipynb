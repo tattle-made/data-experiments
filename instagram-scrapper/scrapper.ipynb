{
 "cells": [
  {
   "cell_type": "code",
   "execution_count": null,
   "id": "65bba28f",
   "metadata": {},
   "outputs": [],
   "source": [
    "from selenium import webdriver\n",
    "from selenium.webdriver.firefox.service import Service\n",
    "from selenium.webdriver.firefox.options import Options\n",
    "from selenium.webdriver.common.by import By\n",
    "from selenium.webdriver.support.ui import WebDriverWait\n",
    "from selenium.webdriver.support import expected_conditions as EC\n",
    "from selenium.webdriver.common.keys import Keys\n",
    "from selenium.webdriver.common.action_chains import ActionChains\n",
    "from time import sleep\n",
    "import time\n",
    "import sys\n",
    "import os\n",
    "import csv\n",
    "from dotenv import load_dotenv\n",
    "load_dotenv()"
   ]
  },
  {
   "cell_type": "code",
   "execution_count": null,
   "id": "ec480154",
   "metadata": {},
   "outputs": [],
   "source": [
    "options = Options()\n",
    "options.add_argument('--disable-blink-features=AutomationControlled')\n",
    "service = Service(\n",
    "    r\"/path/to/geckodriver\"\n",
    ")\n",
    "driver = webdriver.Firefox(service=service, options=options)"
   ]
  },
  {
   "cell_type": "code",
   "execution_count": null,
   "id": "de813d4a",
   "metadata": {},
   "outputs": [],
   "source": [
    "actions = ActionChains(driver)"
   ]
  },
  {
   "cell_type": "code",
   "execution_count": null,
   "id": "1100b5a8",
   "metadata": {},
   "outputs": [],
   "source": [
    "driver.get(\"https://www.instagram.com/\")\n",
    "sleep(3)"
   ]
  },
  {
   "cell_type": "code",
   "execution_count": null,
   "id": "53604833",
   "metadata": {},
   "outputs": [],
   "source": [
    "# enter username\n",
    "username = driver.find_element(By.NAME, \"username\")\n",
    "username.send_keys(os.getenv(\"USERNAME\"))\n",
    "sleep(2)\n",
    "\n",
    "# enter password\n",
    "password = driver.find_element(By.NAME, \"password\")\n",
    "password.send_keys(os.getenv(\"PASSWORD\"))\n",
    "sleep(1)\n",
    "password.submit()\n",
    "sleep(5)"
   ]
  },
  {
   "cell_type": "code",
   "execution_count": null,
   "id": "4b8bbbb7",
   "metadata": {},
   "outputs": [],
   "source": [
    "csv_file = 'instagram_comments.csv'\n",
    "csv_columns = ['username', 'comment', 'likes', 'datetime']\n",
    "with open(csv_file, 'w', newline='', encoding='utf-8') as csvfile:\n",
    "    writer = csv.writer(csvfile)\n",
    "    writer.writerow(csv_columns)"
   ]
  },
  {
   "cell_type": "code",
   "execution_count": null,
   "id": "f0254cbc",
   "metadata": {},
   "outputs": [],
   "source": [
    "post_url = \"https://www.instagram.com/p/C9iUb6wJyPy/\" # 362 comments\n",
    "driver.get(post_url)\n",
    "sleep(3)"
   ]
  },
  {
   "cell_type": "code",
   "execution_count": null,
   "id": "a0277714",
   "metadata": {},
   "outputs": [],
   "source": [
    "# extract things from the big black box of comments\n",
    "comments_div = driver.find_elements(By.XPATH, \"//div[contains(@class, 'x9f619 xjbqb8w x78zum5 x168nmei x13lgxp2 x5pf9jr xo71vjh x1uhb9sk x1plvlek xryxfnj x1iyjqo2 x2lwn1j xeuugli x1q0g3np xqjyukv x1qjc9v5 x1oa3qoh x1nhvcw1')]\")"
   ]
  },
  {
   "cell_type": "code",
   "execution_count": null,
   "id": "d8866349",
   "metadata": {},
   "outputs": [],
   "source": [
    "len(comments_div)"
   ]
  },
  {
   "cell_type": "code",
   "execution_count": null,
   "id": "9c250e4e",
   "metadata": {},
   "outputs": [],
   "source": [
    "actions.move_to_element(comments_div[0]).perform()\n",
    "sleep(1)\n",
    "actions.move_by_offset(120, 0).perform()\n",
    "sleep(2)\n",
    "actions.move_by_offset(0, -55).perform()\n",
    "sleep(1)\n",
    "actions.click().perform()\n",
    "sleep(1)"
   ]
  },
  {
   "cell_type": "code",
   "execution_count": null,
   "id": "4097fcbd",
   "metadata": {},
   "outputs": [],
   "source": [
    "max_constant_iterations = 2\n",
    "constant_iterations = 0\n",
    "previous_length = 0\n",
    "processed_usernames = set()"
   ]
  },
  {
   "cell_type": "code",
   "execution_count": null,
   "id": "abcbc2b8",
   "metadata": {},
   "outputs": [],
   "source": [
    "while constant_iterations < max_constant_iterations:\n",
    "    # Scroll and update comments_div\n",
    "    start_time = time.time()\n",
    "    while time.time() - start_time < 5:  # Scroll for 5 seconds\n",
    "        actions.send_keys(Keys.PAGE_DOWN).perform()\n",
    "        time.sleep(0.2)\n",
    "\n",
    "    comments_div = driver.find_elements(By.XPATH, \"//div[contains(@class, 'x9f619 xjbqb8w x78zum5 x168nmei x13lgxp2 x5pf9jr xo71vjh x1uhb9sk x1plvlek xryxfnj x1iyjqo2 x2lwn1j xeuugli x1q0g3np xqjyukv x1qjc9v5 x1oa3qoh x1nhvcw1')]\")\n",
    "    current_length = len(comments_div)\n",
    "    print(f\"----{current_length}---------\")\n",
    "\n",
    "    if current_length == previous_length:\n",
    "        print(\"----INSIDE CONSTANT ITERATION----\")\n",
    "        constant_iterations += 1\n",
    "    else:\n",
    "        constant_iterations = 0\n",
    "\n",
    "    previous_length = current_length\n",
    "\n",
    "    # Scrape comments\n",
    "    for com in comments_div:\n",
    "        try:\n",
    "            # Extract username\n",
    "            try:\n",
    "                username_span = com.find_element(By.XPATH, \".//span[contains(@class, '_ap3a _aaco')]\")\n",
    "                username = username_span.text\n",
    "            except Exception as e:\n",
    "                username = \"\"\n",
    "                print(f\"Error extracting username: {str(e)}\")\n",
    "\n",
    "            if username not in processed_usernames:\n",
    "                print(f\"---------Comment by {username}-------------\")\n",
    "                processed_usernames.add(username)\n",
    "\n",
    "                # Extract comment text\n",
    "                try:\n",
    "                    comment_div = com.find_element(By.XPATH, \".//div[contains(@class, 'x9f619 xjbqb8w x78zum5 x168nmei x13lgxp2 x5pf9jr xo71vjh x1uhb9sk x1plvlek xryxfnj x1c4vz4f x2lah0s xdt5ytf xqjyukv x1cy8zhl x1oa3qoh x1nhvcw1')]\")\n",
    "                    comment_span = comment_div.find_element(By.XPATH, \".//span[contains(@class, 'x1lliihq x1plvlek xryxfnj x1n2onr6 x193iq5w xeuugli x1fj9vlw x13faqbe x1vvkbs x1s928wv xhkezso x1gmr53x x1cpjm7i x1fgarty x1943h6x x1i0vuye xvs91rp xo1l8bm x5n08af x10wh9bi x1wdrske x8viiok x18hxmgj')]\")\n",
    "                    comment_text = comment_span.text\n",
    "                except Exception as e:\n",
    "                    comment_text = \"\"\n",
    "                    print(f\"Error extracting comment text: {str(e)}\")\n",
    "\n",
    "                # print(f\"TEXT - {comment_text}\")\n",
    "\n",
    "                # Extract number of likes\n",
    "                try:\n",
    "                    likes_div = com.find_element(By.XPATH, \".//div[contains(@class, 'x1i10hfl xjbqb8w x1ejq31n xd10rxx x1sy0etr x17r0tee x972fbf xcfux6l x1qhh985 xm0m39n x9f619 x1ypdohk xt0psk2 xe8uvvx xdj266r xat24cr x1mh8g0r xexx8yu x4uap5 x18d9i69 xkhd6sd x16tdsg8 x1hl2dhg xggy1nq x1a2a7pz xq8finb x87ps6o x1d5wrs8')]\")\n",
    "                    likes_span = likes_div.find_element(By.XPATH, \".//span[contains(@class, 'x1lliihq x193iq5w x6ikm8r x10wlt62 xlyipyv xuxw1ft')]\")\n",
    "                    likes = likes_span.text\n",
    "                except Exception as e:\n",
    "                    likes = \"\"\n",
    "                    print(f\"Error extracting likes: {str(e)}\")\n",
    "\n",
    "               # print(f\"LIKES - {likes}\")\n",
    "\n",
    "                # Extract datetime\n",
    "                try:\n",
    "                    time_html = com.find_element(By.XPATH, \".//time[contains(@class, 'x1ejq31n xd10rxx x1sy0etr x17r0tee x1roi4f4 xexx8yu x4uap5 x18d9i69 xkhd6sd x1n2onr6')]\")\n",
    "                    datetime_value = time_html.get_attribute('datetime')\n",
    "                    # print(f\"TIME - {datetime_value} - {time_html.text}\")\n",
    "                except Exception as e:\n",
    "                    datetime_value = \"\"\n",
    "                    print(f\"Error extracting datetime: {str(e)}\")\n",
    "\n",
    "                # Append data to CSV\n",
    "                with open(csv_file, 'a', newline='', encoding='utf-8') as csvfile:\n",
    "                    writer = csv.writer(csvfile)\n",
    "                    writer.writerow([username, comment_text, likes, datetime_value])\n",
    "\n",
    "        except Exception as e:\n",
    "            print(f\"Error while scraping comment: {str(e)}\")\n",
    "            pass"
   ]
  },
  {
   "cell_type": "code",
   "execution_count": null,
   "id": "1693386a",
   "metadata": {},
   "outputs": [],
   "source": [
    "print(f\"Total comments loaded: {len(comments_div)}\")"
   ]
  },
  {
   "cell_type": "code",
   "execution_count": null,
   "id": "dbab5f4d",
   "metadata": {},
   "outputs": [],
   "source": [
    "# ABOVE CODE GIVES AN ERROR WHEN COMMENT IS GIF - hence no text is found"
   ]
  },
  {
   "cell_type": "code",
   "execution_count": null,
   "id": "2efe1a98",
   "metadata": {},
   "outputs": [],
   "source": [
    "driver.quit()"
   ]
  }
 ],
 "metadata": {
  "kernelspec": {
   "display_name": "Python 3 (ipykernel)",
   "language": "python",
   "name": "python3"
  },
  "language_info": {
   "codemirror_mode": {
    "name": "ipython",
    "version": 3
   },
   "file_extension": ".py",
   "mimetype": "text/x-python",
   "name": "python",
   "nbconvert_exporter": "python",
   "pygments_lexer": "ipython3",
   "version": "3.12.2"
  }
 },
 "nbformat": 4,
 "nbformat_minor": 5
}
